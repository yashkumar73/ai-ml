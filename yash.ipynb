{
 "cells": [
  {
   "cell_type": "code",
   "execution_count": null,
   "id": "d2a8cae8-7be9-4131-895c-488d9d58f7cb",
   "metadata": {},
   "outputs": [],
   "source": []
  },
  {
   "cell_type": "code",
   "execution_count": null,
   "id": "50f03696-0eff-43ad-8b3a-d077cef55b41",
   "metadata": {},
   "outputs": [],
   "source": [
    "def salary(net_salary):\n",
    "    if net_salary>0 and net_salary<250000:\n",
    "        tax=0\n",
    "        print(\"0% tax\")\n",
    "    elif net_salary>250000 and net_salary<500000:\n",
    "        tax=250000*5/100\n",
    "        print(\"5% tax\",tax,)    \n",
    "    elif net_salary>500000 and net_salary<750000:\n",
    "        tax=250000*10/100\n",
    "        print(\"10% tax\",tax,)\n",
    "    elif net_salary>750000 and net_salary<1000000:\n",
    "        tax=250000*15/100\n",
    "        print(\"15% tax\",tax,) \n",
    "    elif net_salary>1000000 and net_salary<1100000:\n",
    "        tax=100000*20/100\n",
    "        print(\"20% tax\",tax,)\n",
    "        "
   ]
  },
  {
   "cell_type": "code",
   "execution_count": null,
   "id": "36688bbf-dc4e-4d7b-90ea-7b3f64cfa47d",
   "metadata": {},
   "outputs": [],
   "source": []
  },
  {
   "cell_type": "code",
   "execution_count": null,
   "id": "4e3f239e-2271-4687-94db-c5e96f75e725",
   "metadata": {},
   "outputs": [],
   "source": []
  },
  {
   "cell_type": "code",
   "execution_count": null,
   "id": "2c0617bf-d52e-4362-8baf-d3cbfe494e80",
   "metadata": {},
   "outputs": [],
   "source": []
  },
  {
   "cell_type": "code",
   "execution_count": null,
   "id": "cce57147-4f99-4f7d-80e1-89b094cf9cb4",
   "metadata": {},
   "outputs": [],
   "source": []
  }
 ],
 "metadata": {
  "kernelspec": {
   "display_name": "Python 3 (ipykernel)",
   "language": "python",
   "name": "python3"
  },
  "language_info": {
   "codemirror_mode": {
    "name": "ipython",
    "version": 3
   },
   "file_extension": ".py",
   "mimetype": "text/x-python",
   "name": "python",
   "nbconvert_exporter": "python",
   "pygments_lexer": "ipython3",
   "version": "3.12.4"
  }
 },
 "nbformat": 4,
 "nbformat_minor": 5
}
